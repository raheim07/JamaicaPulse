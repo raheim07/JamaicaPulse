{
 "cells": [
  {
   "cell_type": "markdown",
   "id": "56f880ee",
   "metadata": {},
   "source": [
    "## Jamaica Pulse - Sentiment Analysis Data Exploration"
   ]
  },
  {
   "cell_type": "code",
   "execution_count": 51,
   "id": "37fc34b6",
   "metadata": {},
   "outputs": [],
   "source": [
    "import pandas as pd"
   ]
  },
  {
   "cell_type": "code",
   "execution_count": 52,
   "id": "05c1766f",
   "metadata": {},
   "outputs": [],
   "source": [
    "\n",
    "df1 = pd.read_csv(\"raw_data/jamaica_combined_data.csv\")\n",
    "df2 = pd.read_csv(\"raw_data/jamaica_social_data_large_diverse.csv\")\n",
    "\n"
   ]
  },
  {
   "cell_type": "code",
   "execution_count": 53,
   "id": "0c726e04",
   "metadata": {},
   "outputs": [],
   "source": [
    "# Combine all datasets\n",
    "combined_df = pd.concat([df1, df2], ignore_index=True)\n",
    "\n",
    "# Drop duplicates if necessary (optional but recommended)\n",
    "combined_df = combined_df.drop_duplicates(subset=\"text\")\n",
    "\n",
    "# Save to one big CSV\n",
    "combined_df.to_csv(\"raw_data/jamaica_combined_data.csv\", index=False, encoding='utf-8')\n"
   ]
  },
  {
   "cell_type": "code",
   "execution_count": 55,
   "id": "5f07da2f",
   "metadata": {},
   "outputs": [
    {
     "name": "stdout",
     "output_type": "stream",
     "text": [
      "   id   platform                                               text  \\\n",
      "0   1    YouTube    Mi proud a di new youth program in Ocho Rios 🇯🇲   \n",
      "1   2  Instagram   Gas prices are killing me today in Montego Bay 😤   \n",
      "2   3    YouTube  Can’t believe another shooting happened in Och...   \n",
      "3   4    YouTube  Did you see that crazy goal last night for Kin...   \n",
      "4   5  Instagram       Mi hungry fi some jerk chicken in Kingston 🍗   \n",
      "\n",
      "             timestamp  \n",
      "0  2025-10-15 05:29:00  \n",
      "1  2025-10-17 17:20:00  \n",
      "2  2025-10-15 10:17:00  \n",
      "3  2025-10-15 13:36:00  \n",
      "4  2025-10-17 00:27:00  \n",
      "<bound method DataFrame.info of         id   platform                                               text  \\\n",
      "0        1    YouTube    Mi proud a di new youth program in Ocho Rios 🇯🇲   \n",
      "1        2  Instagram   Gas prices are killing me today in Montego Bay 😤   \n",
      "2        3    YouTube  Can’t believe another shooting happened in Och...   \n",
      "3        4    YouTube  Did you see that crazy goal last night for Kin...   \n",
      "4        5  Instagram       Mi hungry fi some jerk chicken in Kingston 🍗   \n",
      "...    ...        ...                                                ...   \n",
      "1212   565  Instagram  Mi cyaan believe how high di rent dem a go in ...   \n",
      "1213   566          X    Di local festival in Portmore was pure vibes! 🎉   \n",
      "1286   639    YouTube   Di local festival in Ocho Rios was pure vibes! 🎉   \n",
      "1365   718    YouTube         Mi see long queue fi di clinic in Negril 🏥   \n",
      "1675  1028  Instagram     Di local festival in St. Ann was pure vibes! 🎉   \n",
      "\n",
      "                timestamp  \n",
      "0     2025-10-15 05:29:00  \n",
      "1     2025-10-17 17:20:00  \n",
      "2     2025-10-15 10:17:00  \n",
      "3     2025-10-15 13:36:00  \n",
      "4     2025-10-17 00:27:00  \n",
      "...                   ...  \n",
      "1212  2025-10-10 19:51:00  \n",
      "1213  2025-10-14 23:28:00  \n",
      "1286  2025-10-13 08:16:00  \n",
      "1365  2025-10-11 04:53:00  \n",
      "1675  2025-10-13 15:50:00  \n",
      "\n",
      "[697 rows x 4 columns]>\n"
     ]
    }
   ],
   "source": [
    "print(combined_df.head())\n",
    "print(combined_df.info)"
   ]
  },
  {
   "cell_type": "code",
   "execution_count": 56,
   "id": "c5cc2d3b",
   "metadata": {},
   "outputs": [
    {
     "data": {
      "text/plain": [
       "(697, 4)"
      ]
     },
     "execution_count": 56,
     "metadata": {},
     "output_type": "execute_result"
    }
   ],
   "source": [
    "combined_df.to_csv(\"cleaned_posts.csv\", index=False)\n",
    "combined_df.shape"
   ]
  },
  {
   "cell_type": "code",
   "execution_count": 25,
   "id": "2199de61",
   "metadata": {},
   "outputs": [
    {
     "name": "stdout",
     "output_type": "stream",
     "text": [
      "<bound method DataFrame.info of       id   platform                                               text  \\\n",
      "0      1    YouTube    Mi proud a di new youth program in Ocho Rios 🇯🇲   \n",
      "1      2  Instagram   Gas prices are killing me today in Montego Bay 😤   \n",
      "2      3    YouTube  Can’t believe another shooting happened in Och...   \n",
      "3      4    YouTube  Did you see that crazy goal last night for Kin...   \n",
      "4      5  Instagram       Mi hungry fi some jerk chicken in Kingston 🍗   \n",
      "..   ...        ...                                                ...   \n",
      "736  737          X  Mi cyaan wait fi di next music festival in Por...   \n",
      "768  769    YouTube  Crime rates are going up in St. Catherine, sta...   \n",
      "812  813    YouTube  Budget proposals are out, what do you think ab...   \n",
      "840  841          X  Mi cyaan wait fi di next music festival in Mon...   \n",
      "896  897    YouTube         Mi hungry fi some jerk chicken in Negril 🍗   \n",
      "\n",
      "               timestamp  \n",
      "0    2025-10-15 05:29:00  \n",
      "1    2025-10-17 17:20:00  \n",
      "2    2025-10-15 10:17:00  \n",
      "3    2025-10-15 13:36:00  \n",
      "4    2025-10-17 00:27:00  \n",
      "..                   ...  \n",
      "736  2025-10-17 14:06:00  \n",
      "768  2025-10-16 20:41:00  \n",
      "812  2025-10-15 23:23:00  \n",
      "840  2025-10-15 08:32:00  \n",
      "896  2025-10-17 16:39:00  \n",
      "\n",
      "[212 rows x 4 columns]>\n"
     ]
    }
   ],
   "source": [
    "# print(df.info)"
   ]
  },
  {
   "cell_type": "code",
   "execution_count": null,
   "id": "6a4c1b41",
   "metadata": {},
   "outputs": [],
   "source": [
    "# df.to_csv(\"cleaned_posts.csv\", index=False)"
   ]
  },
  {
   "cell_type": "code",
   "execution_count": 27,
   "id": "4c7d90c9",
   "metadata": {},
   "outputs": [
    {
     "data": {
      "text/plain": [
       "(212, 4)"
      ]
     },
     "execution_count": 27,
     "metadata": {},
     "output_type": "execute_result"
    }
   ],
   "source": [
    "df = pd.read_csv(\"cleaned_posts.csv\")\n",
    "df.shape"
   ]
  }
 ],
 "metadata": {
  "kernelspec": {
   "display_name": "Python 3",
   "language": "python",
   "name": "python3"
  },
  "language_info": {
   "codemirror_mode": {
    "name": "ipython",
    "version": 3
   },
   "file_extension": ".py",
   "mimetype": "text/x-python",
   "name": "python",
   "nbconvert_exporter": "python",
   "pygments_lexer": "ipython3",
   "version": "3.12.10"
  }
 },
 "nbformat": 4,
 "nbformat_minor": 5
}
